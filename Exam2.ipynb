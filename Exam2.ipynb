{
 "cells": [
  {
   "cell_type": "markdown",
   "metadata": {},
   "source": [
    "<center>\n",
    "    <img src=\"https://cf-courses-data.s3.us.cloud-object-storage.appdomain.cloud/IBMDeveloperSkillsNetwork-DS0105EN-SkillsNetwork/labs/Module2/images/SN_web_lightmode.png\" width=\"300\" alt=\"cognitiveclass.ai logo\">\n",
    "</center>\n"
   ]
  },
  {
   "cell_type": "markdown",
   "metadata": {},
   "source": [
    "#### Add your code below following the instructions given in the course\n"
   ]
  },
  {
   "cell_type": "markdown",
   "metadata": {},
   "source": [
    "# Exam2"
   ]
  },
  {
   "cell_type": "markdown",
   "metadata": {},
   "source": [
    "Data Science is the process and method for extracting knowledge and insights from large volumes of disparate data."
   ]
  },
  {
   "cell_type": "markdown",
   "metadata": {},
   "source": [
    "Data science languages included:\n",
    " - Python\n",
    " - R\n",
    " - SQL\n",
    " - Scala\n",
    " - Java\n",
    " - C++\n",
    " - Julia\n",
    " - Javascript\n",
    " - PHP\n",
    " - Go\n",
    " - Ruby\n",
    " - Visual Basic"
   ]
  },
  {
   "cell_type": "markdown",
   "metadata": {},
   "source": [
    "Libraries:\n",
    "1. Pandas\n",
    "2. NumPy\n",
    "3. Matplotlib\n",
    "4. Seaborn\n",
    "5. Scikit-learn\n",
    "6. Keras\n",
    "7. Tensorflow\n",
    "8. PyTorch\n",
    "9. Apache Spark\n",
    "10. Vegas\n",
    "11. Big DL\n",
    "12. ggplot2\n"
   ]
  },
  {
   "cell_type": "markdown",
   "metadata": {},
   "source": [
    "|Data Management|Data integration & Transformation|Data Visualization|Model Deployment|Model Monitoring & Assessment|Code Asset Management|Data Asset Management|Development Environment|Fully Integrated Visual Tools & Platforms|\n",
    "|---------------|---------------------------------|------------------|----------------|-----------------------------|---------------------|------------------------------|-----------------------|-----------------------------------------|\n",
    "|    My SQL     |          Apache Airflow         |        Hue       |Apache Prediction IO|        Model DB         |        GitHub       |         Apache Atlas     |        Jupyter        |             Watson Studio               |\n",
    "|MongoDB|Kube Flow|Kibana|Seldon|Prometheus|GitLab|ODPI Egeria|Apache Zepplin|H2O Driverless AI|\n",
    "|Hadoop|Apache Kafka|Apache Superset|MLeap|IBM AI Fairness 360|Bitbucket|Kylo|RStudio|Microsoft Azure Machine Learning|\n",
    "\n"
   ]
  },
  {
   "cell_type": "markdown",
   "metadata": {},
   "source": [
    "An arithmetic expression consists of arithmetic terms, such as x, x2, xy, or 3xy2, combined by arithmetic operations, such as addition, subtraction, multiplication, and division"
   ]
  },
  {
   "cell_type": "code",
   "execution_count": 3,
   "metadata": {},
   "outputs": [
    {
     "data": {
      "text/plain": [
       "55"
      ]
     },
     "execution_count": 3,
     "metadata": {},
     "output_type": "execute_result"
    }
   ],
   "source": [
    "(2+9)*5"
   ]
  },
  {
   "cell_type": "code",
   "execution_count": 18,
   "metadata": {},
   "outputs": [
    {
     "name": "stdin",
     "output_type": "stream",
     "text": [
      "Enter minutes 90\n"
     ]
    },
    {
     "name": "stdout",
     "output_type": "stream",
     "text": [
      "hour= 1.0 hour & 30.0 minutes\n"
     ]
    }
   ],
   "source": [
    "import numpy\n",
    "minutes = float(input(\"Enter minutes\"))\n",
    "hour = numpy.floor(minutes/60)\n",
    "minute = minutes - 60\n",
    "print(\"hour=\" ,hour,\"hour &\" ,minute, \"minutes\")"
   ]
  },
  {
   "cell_type": "markdown",
   "metadata": {},
   "source": [
    "List of Objectives:\n",
    " - Learning Data Engineering\n",
    " - Learning Python and R\n",
    " - Apply for PhD"
   ]
  },
  {
   "cell_type": "code",
   "execution_count": null,
   "metadata": {},
   "outputs": [],
   "source": []
  }
 ],
 "metadata": {
  "kernelspec": {
   "display_name": "Python",
   "language": "python",
   "name": "conda-env-python-py"
  },
  "language_info": {
   "codemirror_mode": {
    "name": "ipython",
    "version": 3
   },
   "file_extension": ".py",
   "mimetype": "text/x-python",
   "name": "python",
   "nbconvert_exporter": "python",
   "pygments_lexer": "ipython3",
   "version": "3.7.12"
  }
 },
 "nbformat": 4,
 "nbformat_minor": 4
}
